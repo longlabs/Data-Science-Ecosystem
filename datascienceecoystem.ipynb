{
 "cells": [
  {
   "cell_type": "markdown",
   "id": "aae75cff",
   "metadata": {},
   "source": [
    "# Data Science Tools and Ecosystem\n"
   ]
  },
  {
   "cell_type": "markdown",
   "id": "cf5f11d0",
   "metadata": {},
   "source": [
    "### Author Latosha Long"
   ]
  },
  {
   "cell_type": "markdown",
   "id": "7c20deb5",
   "metadata": {},
   "source": [
    "#### Introduction Data Science Tools and Ecosystems\n",
    "In this notebook, I'm excited to offer you a concise overview of the Data Science Tools and Ecosystem. Together, we'll delve into the fundamental tools and resources that are widely embraced within the realm of data science. This comprehensive guide is designed to introduce you to the critical programming languages, libraries, and open-source tools that are instrumental in the worlds of data analysis and machine learning. As we journey through this notebook, you'll gain a deeper understanding of the very tools and resources that empower data scientists in their daily work.\n"
   ]
  },
  {
   "cell_type": "markdown",
   "id": "a1b2578d",
   "metadata": {},
   "source": [
    "**Objectives:**\n",
    "\n",
    "- List popular languages for Data Science.\n",
    "- Identify commonly used data science libraries.\n",
    "- Create and format Markdown content in Jupyter Notebook.\n",
    "- Perform basic arithmetic operations in Python.\n",
    "- Learn to structure and organize information in a notebook.\n"
   ]
  },
  {
   "cell_type": "markdown",
   "id": "12958ec2",
   "metadata": {},
   "source": [
    "#### Some of the popular languages that Data Scientist use are:\n"
   ]
  },
  {
   "cell_type": "markdown",
   "id": "4f1a68ca",
   "metadata": {},
   "source": [
    "1. Python\n",
    "2. R\n",
    "3. Julia\n",
    "4. SQL\n",
    "5. Java\n",
    "6. Scala\n",
    "7. MATLAB\n",
    "8. SAS\n",
    "9. Ruby\n",
    "10. Perl\n"
   ]
  },
  {
   "cell_type": "markdown",
   "id": "ffc12208",
   "metadata": {},
   "source": [
    "#### Some of the commonly used libraries used by Data Scientist include:\n"
   ]
  },
  {
   "cell_type": "markdown",
   "id": "60867f05",
   "metadata": {},
   "source": [
    "1. NumPy\n",
    "2. Pandas\n",
    "3. Matplotlib\n",
    "4. Seaborn\n",
    "5. Scikit-Learn\n",
    "6. TensorFlow\n",
    "7. PyTorch\n",
    "8. Keras\n",
    "9. Statsmodels\n",
    "10. Plotly\n"
   ]
  },
  {
   "cell_type": "markdown",
   "id": "517d933e",
   "metadata": {},
   "source": [
    "| Data Science Tools   |\n",
    "| --------------------  |\n",
    "| 1. Python (Pandas, NumPy)  |\n",
    "| 2. R (ggplot2, dplyr)     |\n",
    "| 3. Julia (DataFrames.jl)  |\n"
   ]
  },
  {
   "cell_type": "markdown",
   "id": "a250c3da",
   "metadata": {},
   "source": [
    "### Below are a few examples of evaluating arithmetic expressions in Python"
   ]
  },
  {
   "cell_type": "code",
   "execution_count": 5,
   "id": "efd4f9d5",
   "metadata": {},
   "outputs": [
    {
     "data": {
      "text/plain": [
       "17"
      ]
     },
     "execution_count": 5,
     "metadata": {},
     "output_type": "execute_result"
    }
   ],
   "source": [
    "(3*4)+5\n"
   ]
  },
  {
   "cell_type": "code",
   "execution_count": 6,
   "id": "76149cf5",
   "metadata": {},
   "outputs": [
    {
     "data": {
      "text/plain": [
       "3.3333333333333335"
      ]
     },
     "execution_count": 6,
     "metadata": {},
     "output_type": "execute_result"
    }
   ],
   "source": [
    "minutes = 200\n",
    "hours = minutes / 60\n",
    "hours"
   ]
  },
  {
   "cell_type": "markdown",
   "id": "af1a73f9",
   "metadata": {},
   "source": []
  }
 ],
 "metadata": {
  "kernelspec": {
   "display_name": "Python 3 (ipykernel)",
   "language": "python",
   "name": "python3"
  },
  "language_info": {
   "codemirror_mode": {
    "name": "ipython",
    "version": 3
   },
   "file_extension": ".py",
   "mimetype": "text/x-python",
   "name": "python",
   "nbconvert_exporter": "python",
   "pygments_lexer": "ipython3",
   "version": "3.11.5"
  }
 },
 "nbformat": 4,
 "nbformat_minor": 5
}
